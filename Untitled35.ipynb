{
 "cells": [
  {
   "cell_type": "code",
   "execution_count": null,
   "id": "5885777d-9364-4934-96a3-933fbf35d18e",
   "metadata": {},
   "outputs": [],
   "source": [
    "'''\n",
    "Q1. Data encoding is converting categorical data into a numerical format. It is useful in data science for preparing data for machine learning algorithms, \n",
    "which require numerical input.\n",
    "\n",
    "Q2. Nominal encoding assigns a unique integer to each category. Example: Encoding countries as 0, 1, 2 for USA, Canada, Mexico, respectively, to input \n",
    "into a machine learning model.\n",
    "\n",
    "Q3. Nominal encoding is preferred over one-hot encoding when categories have no ordinal relationship and to reduce dimensionality. Example: Encoding \n",
    "colors (red, green, blue) as 0, 1, 2 instead of three separate columns.\n",
    "\n",
    "Q4. One-hot encoding would be used for a dataset with 5 unique categorical values. This avoids implying any ordinal relationship and makes the data\n",
    "suitable for machine learning algorithms.\n",
    "\n",
    "Q5. Nominal encoding for two categorical columns, each with unique values, would create 2 new columns (one for each categorical column). No additional\n",
    "columns are created.\n",
    "\n",
    "Q6. One-hot encoding would be used for the dataset on animals. This technique avoids implying any ordinal relationship and effectively represents the \n",
    "categorical data for machine learning algorithms.\n",
    "\n",
    "Q7. For predicting customer churn, use one-hot encoding for 'gender' and 'contract type'. Implement encoding by transforming each category into binary\n",
    "columns, ensuring the model can interpret the categorical features effectively.'''"
   ]
  }
 ],
 "metadata": {
  "kernelspec": {
   "display_name": "Python 3 (ipykernel)",
   "language": "python",
   "name": "python3"
  },
  "language_info": {
   "codemirror_mode": {
    "name": "ipython",
    "version": 3
   },
   "file_extension": ".py",
   "mimetype": "text/x-python",
   "name": "python",
   "nbconvert_exporter": "python",
   "pygments_lexer": "ipython3",
   "version": "3.10.8"
  }
 },
 "nbformat": 4,
 "nbformat_minor": 5
}
